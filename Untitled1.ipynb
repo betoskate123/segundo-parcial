{
 "cells": [
  {
   "cell_type": "markdown",
   "metadata": {},
   "source": [
    "Que es un sistema operativo: Un sistema operativo es el software o programa más importante que se ejecuta en un computador, nos permite usarlo y darle órdenes para que haga lo que necesitamos. tipo de sistemas operativos: Los sistemas operativos más comunes que existen para los computadores o los que te van a ofrecer en el mercado cuando estés buscando un equipo son: Microsoft Windows, Mac OS X y Linux. Proceso: Cada proceso proporciona los recursos necesarios para ejecutar un progtwig. Un proceso tiene un espacio de direcciones virtuales, código ejecutable, manejadores abiertos a objetos del sistema, un contexto de seguridad, un identificador de proceso único, variables de entorno, una clase de prioridad, tamaños de conjunto de trabajo mínimo y máximo y al menos un hilo de ejecución. Cada proceso se inicia con un solo subproceso, a menudo llamado subproceso principal, pero puede crear subprocesos adicionales desde cualquiera de sus subprocesos.\n",
    "\n",
    "Hilo: Un hilo es una entidad dentro de un proceso que puede progtwigrse para su ejecución. Todos los hilos de un proceso comparten su espacio de direcciones virtuales y recursos del sistema. Además, cada subproceso mantiene controladores de excepciones, una prioridad de progtwigción, almacenamiento local de subprocesos, un identificador de subproceso único y un conjunto de estructuras que el sistema utilizará para guardar el contexto del subproceso hasta que se programe. El contexto de subproceso incluye el conjunto de registros de máquina del subproceso, la stack de kernel, un bloque de entorno de subproceso y una stack de usuario en el espacio de direcciones del proceso del subproceso. Los subprocesos también pueden tener su propio contexto de seguridad, que se puede usar para suplantar a los clientes. comando nice: Ejecuta un comando con una prioridad determinada, o modifica la prioridad a de un proceso (programa en ejecución). Utiliza una prioridad variable que parte de la prioridad del shell y suma o resta valores. Mientras menor es el valor de la prioridad mayor prioridad tiene el proceso.\n",
    "\n",
    "Su sintaxis es de la forma: nice -n prioridad [comando]\n",
    "\n",
    "comandos: ls (del inglés list, cuya traducción es lista, listado o listar) es un comando del sistema operativo Unix y derivados que muestra un listado con los archivos y directorios de un determinado directorio. Los resultados se muestran ordenados alfabéticamente. Tree os permite mostrar de manera gráfica y de forma estructurada la jerarquía de los directorios de nuestro sistema operativo. El comando tree además permite listar los directorios de los dispositivos externos. Top El comando top nos da información acerca del uso de la cpu, de la memoria, de los procesos en ejecución, etc en tiempo real. Nos puede ayudar a monitorizar nuestro servidor dedicado si notamos que algo no funciona bien. En ocasiones podemos notar alguna incidencia y gracias al comando top, podemos encaminarnos hacia la causa del problema.\n",
    "\n",
    "#top\n",
    "\n",
    "Mkdir sirve para crear carpetas (directorios), no trabaja si existe un directorio con el mismo nombre. Acrónimo del ingles \"make directory\", que en español significa hacer directorios. Htop nos da un listado de los procesos en ejecución en tiempo real y además un resumen del uso de CPU y de Memoria RAM, es bastante util pero tiene algunos fallos, además de no ser muy claro con la memoria ram utilizada y otros valores le faltan algunas opciones interesantes como poder ordenar por cualquier dato, de todos modos es util y se puede utilizar, cp que te permite copiar archivos y directorios pero no solo eso, cp es un comando linux rico en funcionalidades además te permite copiar enlaces (duros y simbólicos), permisos, propiedades, etc. mv usado para mover o renombrar archivos o directorios del sistema de archivos. El archivo original es borrado y se crea un nuevo archivo con el mismo contenido, el nombre puede ser diferente o puede ser el mismo.\n",
    "\n",
    "Pwd se utiliza para imprimir el nombre del directorio actual en una sesión de comandos bajo un sistema operativo Unix o derivado.\n",
    "\n",
    "Estructura de Directorios en Unix/Linux: /bin - aplicaciones binarias importantes.\n",
    "\n",
    "/boot - Ficheros de configuración del arranque, núcleos y otros ficheros necesarios para el arranque (boot) del equipo.\n",
    "\n",
    "/dev - los ficheros de dispositivo.\n",
    "\n",
    "/etc - ficheros de configuración, scripts de arranque, etc.\n",
    "\n",
    "/home - directorios personales (home) para los diferentes usuarios.\n",
    "\n",
    "/initrd - usado cuando se crea un proceso de arranque initrd personalizado.\n",
    "\n",
    "/lib - librerías del sistema (libraries).\n",
    "\n",
    "/lost+found - proporciona un sistema de \"perdido+encontrado\" (lost+found) para los ficheros que existen debajo del directorio raíz (/).\n",
    "\n",
    "/media - particiones montadas (cargadas) automáticamente en el disco duro y medios (media) extraíbles como CDs, cámaras digitales, etc.\n",
    "\n",
    "/mnt - sistemas de archivos montados manualmente en el disco duro.\n",
    "\n",
    "/opt - proporciona una ubicación donde instalar aplicaciones opcionales (de terceros).\n",
    "\n",
    "/proc - directorio dinámico especial que mantiene información sobre el estado del sistema, incluyendo los procesos actualmente en ejecución.\n",
    "\n",
    "/root - directorio personal del usuario root (superusuario); también llamado \"barra-root\".\n",
    "\n",
    "/sbin - binarios importantes del sistema.\n",
    "\n",
    "/srv - puede contener archivos que se sirven a otros sistemas.\n",
    "\n",
    "/sys - archivos del sistema (system).\n",
    "\n",
    "/tmp - temporary files.\n",
    "\n",
    "/usr - aplicaciones y archivos a los que puede acceder la mayoría de los usuarios.\n",
    "\n",
    "/var - archivos variables como archivos de registros y bases de datos."
   ]
  },
  {
   "cell_type": "markdown",
   "metadata": {},
   "source": [
    "hbjhbernfownifnwofwhbh aiqueso fhkskfbwoqdnoqdnqnefnqofihifqiefiiqeiufuhhfqehfuhuhefqhhuqfhuiqcbuciwbdvbwduicnwudcbwhdcbowubvwuibc ihwdbcuowiuwbdchw cdyiwduobwdjfbwuodbcuowbciwhdbcuwbdhibwduibwicbwuocnwucwuocbwefubou"
   ]
  },
  {
   "cell_type": "markdown",
   "metadata": {},
   "source": [
    "ls"
   ]
  },
  {
   "cell_type": "markdown",
   "metadata": {},
   "source": [
    "ls"
   ]
  }
 ],
 "metadata": {
  "kernelspec": {
   "display_name": "Bash",
   "language": "bash",
   "name": "bash"
  },
  "language_info": {
   "codemirror_mode": "shell",
   "file_extension": ".sh",
   "mimetype": "text/x-sh",
   "name": "bash"
  }
 },
 "nbformat": 4,
 "nbformat_minor": 2
}
